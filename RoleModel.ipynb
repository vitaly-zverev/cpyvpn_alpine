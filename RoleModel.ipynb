{
 "cells": [
  {
   "cell_type": "markdown",
   "id": "437bc91d-4bac-4c41-866e-7ad8de7a2a9e",
   "metadata": {},
   "source": [
    "### Ролевая модель, сводный отчет (списки доступа по всем ролям)"
   ]
  },
  {
   "cell_type": "code",
   "execution_count": null,
   "id": "34c4011a-7057-4dc0-8685-4562a910add4",
   "metadata": {},
   "outputs": [],
   "source": [
    "pip install pivottablejs pandas"
   ]
  },
  {
   "cell_type": "code",
   "execution_count": null,
   "id": "cb83515e-011e-4abe-ab4f-2e9593e170dc",
   "metadata": {},
   "outputs": [],
   "source": [
    "from ipywidgets import VBox, Password, Text\n",
    "token = Password(description='Token:', placeholder='Введите токен') \n",
    "display(VBox([token]))"
   ]
  },
  {
   "cell_type": "code",
   "execution_count": null,
   "id": "bfedd1cc-d0ce-4242-b387-1048bea6a295",
   "metadata": {},
   "outputs": [],
   "source": [
    "from sqlalchemy import create_engine, text, StaticPool\n",
    "from pandas import DataFrame, pivot_table\n",
    "from pivottablejs import pivot_ui\n",
    "\n",
    "pgEn = create_engine(f'postgresql+psycopg://{token.value}',poolclass=StaticPool)\n",
    "\n",
    "pgConnection = pgEn.connect()\n",
    "\n",
    "resultSet = pgConnection.execute(text(\n",
    "                                        ''' \n",
    "                                        select *\n",
    "                                        from dbo.eligible_links el LEFT outer join dbo.probes p on (el.link_id = p.link_id and el.role_id =p.role_id and  NOW() - P.created_ts  < INTERVAL '300 minute')\n",
    "                                        /* where service_name like 'Kafka%' or service_name like 'CDB%' or service_name like 'Swagger%' */\n",
    "                                        ''')\n",
    "                                )\n",
    "\n",
    "\n",
    "#resultSet = pgConnection.execute(text(\n",
    "#                                        ''' \n",
    "#                                        select *\n",
    "#                                        from dbo.eligible_links \n",
    "#                                        /* WHERE service_name like 'Kafka%' or service_name like 'CDB%' or service_name like 'Swagger%' */\n",
    "#                                        ''')\n",
    "#                                )\n",
    "\n",
    "\n",
    "\n",
    "\n",
    "\n",
    "\n",
    "\n",
    "df = DataFrame(resultSet.fetchall())\n",
    "pgEn.dispose() \n",
    "\n",
    "# pivot_table(df, index=['service_name'], columns=['role_name'],sort=True, margins=True,aggfunc={\"url\":\"count\", \"latency_ns\":\"min\"},values=['url','latency_ns'],fill_value=0)\n",
    "\n",
    "pivot_table(df, index=['service_name','url'], columns=['role_name'],sort=True, margins=False,aggfunc={\"latency_ns\":\"min\"},values=['latency_ns'])\n"
   ]
  },
  {
   "cell_type": "code",
   "execution_count": null,
   "id": "43897939-d06c-4432-a904-b269aadef8e9",
   "metadata": {},
   "outputs": [],
   "source": [
    "pivot_table(df, index=['service_name','url'], columns=['role_name'],sort=True, margins=False,aggfunc={\"latency_ns\":\"max\"},values=['latency_ns'])"
   ]
  },
  {
   "cell_type": "code",
   "execution_count": null,
   "id": "4ad99afa-99b1-412a-b413-43926e8d1ebf",
   "metadata": {},
   "outputs": [],
   "source": [
    "pivot_ui(df ,outfile_path='pivottablejs7.html')"
   ]
  }
 ],
 "metadata": {
  "kernelspec": {
   "display_name": "Python 3 (ipykernel)",
   "language": "python",
   "name": "python3"
  },
  "language_info": {
   "codemirror_mode": {
    "name": "ipython",
    "version": 3
   },
   "file_extension": ".py",
   "mimetype": "text/x-python",
   "name": "python",
   "nbconvert_exporter": "python",
   "pygments_lexer": "ipython3",
   "version": "3.10.6"
  }
 },
 "nbformat": 4,
 "nbformat_minor": 5
}
