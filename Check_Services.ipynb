{
 "cells": [
  {
   "cell_type": "markdown",
   "id": "373a9d19-2d1a-43c0-9f2a-389b0d48fe75",
   "metadata": {
    "tags": []
   },
   "source": [
    "# Агент прикладного уровня для оценки качества сетевых сервисов (сетевая доступность, протокольная доступность, корректность авторизации, время отклика)\n",
    "\n",
    "## По материалам: \n",
    "## https://habr.com/ru/company/proto/blog/532152/\n",
    "## https://www.dynatrace.com/platform/digital-experience/\n",
    "## https://www.dynatrace.com/platform/oneagent/\n",
    "## https://betterstack.com/community/comparisons/javascript-application-monitoring-tools/\n",
    "\n"
   ]
  },
  {
   "cell_type": "code",
   "execution_count": null,
   "id": "0c9658fa-7fe5-449e-8c7b-5304fe3dca7b",
   "metadata": {
    "tags": []
   },
   "outputs": [],
   "source": [
    "#pip install aiohttp asyncssh\n",
    "\n",
    "# nmap scanme.nmap.org\n",
    "# Starting Nmap 7.80 ( https://nmap.org ) at 2023-02-12 10:16 UTC\n",
    "# Nmap scan report for scanme.nmap.org (45.33.32.156)\n",
    "# Host is up (0.19s latency).\n",
    "# Other addresses for scanme.nmap.org (not scanned): 2600:3c01::f03c:91ff:fe18:bb2f\n",
    "# Not shown: 993 closed ports\n",
    "# PORT      STATE    SERVICE\n",
    "# 22/tcp    open     ssh\n",
    "# 53/tcp    open     domain\n",
    "# 80/tcp    open     http\n",
    "# 2323/tcp  filtered 3d-nfsd\n",
    "# 5555/tcp  filtered freeciv\n",
    "# 9929/tcp  open     nping-echo\n",
    "# 31337/tcp open     Elite\n"
   ]
  },
  {
   "cell_type": "code",
   "execution_count": 79,
   "id": "967881f2-94f5-4124-8ba5-a0209c9db4b6",
   "metadata": {},
   "outputs": [
    {
     "data": {
      "application/vnd.jupyter.widget-view+json": {
       "model_id": "9f73804d3ad14af4a96c65120007c4cb",
       "version_major": 2,
       "version_minor": 0
      },
      "text/plain": [
       "VBox(children=(Text(value='', description='User:', placeholder='Введите здесь имя Ext-....'), Password(descrip…"
      ]
     },
     "metadata": {},
     "output_type": "display_data"
    },
    {
     "data": {
      "application/vnd.jupyter.widget-view+json": {
       "model_id": "8aa5457fe9614ab8b61611fc17b8c2e3",
       "version_major": 2,
       "version_minor": 0
      },
      "text/plain": [
       "Button(description='Start tracing!', style=ButtonStyle())"
      ]
     },
     "metadata": {},
     "output_type": "display_data"
    },
    {
     "data": {
      "application/vnd.jupyter.widget-view+json": {
       "model_id": "6c2e751df11b48be816c8a27765b3716",
       "version_major": 2,
       "version_minor": 0
      },
      "text/plain": [
       "Output()"
      ]
     },
     "metadata": {},
     "output_type": "display_data"
    }
   ],
   "source": [
    "import time\n",
    "import asyncio\n",
    "import asyncssh\n",
    "import aiohttp\n",
    "from http.client import HTTPConnection\n",
    "from urllib.parse import urlparse\n",
    "\n",
    "\n",
    "async def site_is_online_async(url, timeout,username,password):\n",
    "    \"\"\"Return True if the target URL is online.\n",
    "    Raise an exception otherwise.\n",
    "    \"\"\"\n",
    "    error = Exception(\"unknown scheme\")\n",
    "    \n",
    "    parser = urlparse(url)\n",
    "    host = parser.netloc or parser.path.split(\"/\")[0]\n",
    "    \n",
    "    \n",
    "    if parser.scheme in (\"http\", \"https\"):\n",
    "        async with aiohttp.ClientSession() as session:\n",
    "            try:\n",
    "                await session.head(url, timeout=timeout,ssl=False)\n",
    "                return True\n",
    "            except asyncio.TimeoutError:\n",
    "                error = Exception(\"timed out\")\n",
    "            except (asyncssh.Error) as e:\n",
    "                error = e\n",
    "                \n",
    "    if parser.scheme in (\"ssh\"):\n",
    "        if  parser.port == None : \n",
    "            port=22 \n",
    "        else: \n",
    "            port=parser.port\n",
    "            host=host.split(\":\")[0]\n",
    "\n",
    "        #print(host,port)\n",
    "        \n",
    "        try:\n",
    "            async with await asyncio.wait_for(asyncssh.connect(host=host,port=port,username=username, password=password, known_hosts=None), timeout=timeout) as conn:\n",
    "                print((await conn.run('tty', term_type='ansi')).stdout, end='')\n",
    "                return True\n",
    "        except asyncio.TimeoutError:\n",
    "                error = Exception(\"timed out\")\n",
    "        except (asyncssh.Error) as e:\n",
    "                error = e\n",
    "                \n",
    "    if parser.scheme in (\"postgre\"):                \n",
    "        if  parser.port == None : \n",
    "            port=5432\n",
    "        else: \n",
    "            port=parser.port\n",
    "            host=host.split(\":\")[0]\n",
    "        \n",
    "        coro = asyncio.open_connection(host, port)\n",
    "        # execute the coroutine with a timeout\n",
    "        try:\n",
    "            # open the connection and wait for a moment\n",
    "            _,writer = await asyncio.wait_for(coro, timeout)\n",
    "            # close connection once opened\n",
    "            writer.close()\n",
    "            # indicate the connection can be opened\n",
    "            return True\n",
    "        except asyncio.TimeoutError:\n",
    "                error = Exception(\"timed out\")\n",
    "        except (asyncssh.Error) as e:\n",
    "                error = e\n",
    "                \n",
    "    if parser.scheme in (\"kafka\"):                \n",
    "        if  parser.port == None : \n",
    "            port=9092\n",
    "        else: \n",
    "            port=parser.port\n",
    "            host=host.split(\":\")[0]\n",
    "        \n",
    "        coro = asyncio.open_connection(host, port)\n",
    "        # execute the coroutine with a timeout\n",
    "        try:\n",
    "            # open the connection and wait for a moment\n",
    "            _,writer = await asyncio.wait_for(coro, timeout)\n",
    "            # close connection once opened\n",
    "            writer.close()\n",
    "            # indicate the connection can be opened\n",
    "            return True\n",
    "        except asyncio.TimeoutError:\n",
    "                error = Exception(\"timed out\")\n",
    "        except (asyncssh.Error) as e:\n",
    "                error = e\n",
    "                \n",
    "    if parser.scheme in (\"raw\"):                \n",
    "        if  parser.port == None : \n",
    "            port=0\n",
    "        else: \n",
    "            port=parser.port\n",
    "            host=host.split(\":\")[0]\n",
    "        \n",
    "        coro = asyncio.open_connection(host, port)\n",
    "        # execute the coroutine with a timeout\n",
    "        try:\n",
    "            # open the connection and wait for a moment\n",
    "            _,writer = await asyncio.wait_for(coro, timeout)\n",
    "            # close connection once opened\n",
    "            writer.close()\n",
    "            # indicate the connection can be opened\n",
    "            return True\n",
    "        except asyncio.TimeoutError:\n",
    "                error = Exception(\"timed out\")\n",
    "        except (asyncssh.Error) as e:\n",
    "                error = e                \n",
    "                \n",
    "    raise error\n",
    "    \n",
    "def display_check_result(latency_ns, url, error=\"\"):\n",
    "    \"\"\"Display the result of a connectivity check.\"\"\"\n",
    "    print(f'The status of \"{url}\" is:', end=\" \")\n",
    "    if (latency_ns):\n",
    "        print(f'\"Online!\" 👍, latency: {latency_ns*10e-9}s')\n",
    "    else:\n",
    "        print(f'\"Offline?\" 👎 \\n  Error: \"{error}\"')\n",
    "\n",
    "\n",
    "async def _asynchronous_check(urls,timeout,username,password):\n",
    "    async def _check(url,timeout,username,password):\n",
    "        error = \"\"\n",
    "        startTime = time.time_ns()\n",
    "        try:\n",
    "            await site_is_online_async(url,timeout,username,password)\n",
    "            latency = time.time_ns() - startTime\n",
    "        except Exception as e:\n",
    "            latency = None\n",
    "            error = str(e)\n",
    "        display_check_result(latency, url,error)\n",
    "\n",
    "    await asyncio.gather(*(_check(url,timeout,username,password) for url in urls))\n",
    "\n",
    "def check(urls,timeout,username,password):\n",
    "    try:\n",
    "        loop = asyncio.get_running_loop()\n",
    "    except RuntimeError:  # 'RuntimeError: There is no current event loop...'\n",
    "        loop = None\n",
    "\n",
    "    if loop and loop.is_running():\n",
    "        #print('Async event loop already running. Adding coroutine to the event loop.')\n",
    "        tsk = loop.create_task(_asynchronous_check(urls,timeout,username,password))\n",
    "        # ^-- https://docs.python.org/3/library/asyncio-task.html#task-object\n",
    "        # Optionally, a callback function can be executed when the coroutine completes\n",
    "        #tsk.add_done_callback(\n",
    "        #    lambda t: print(f'Task done with result={t.result()}  << return val of main()'))\n",
    "    else:\n",
    "        print('Starting new event loop')\n",
    "        result = asyncio.run(_asynchronous_check(urls,timeout,username,password))\n",
    "        \n",
    "        \n",
    "import ipywidgets\n",
    "username = ipywidgets.Text(description='User:', placeholder='Введите здесь имя Ext-....')\n",
    "password = ipywidgets.Password(description='Password:', placeholder='Введите здесь пароль')\n",
    "button = widgets.Button(description=\"Start tracing!\")\n",
    "output = widgets.Output()\n",
    "\n",
    "def on_button_clicked(b):\n",
    "    with output:\n",
    "        output.append_stdout('!!!!')\n",
    "        check(timeout=15, urls=[\"http://scanme.nmap.org\",     # HTTP via aiohttp \n",
    "                                \"ssh://scanme.nmap.org\",      # SSH via asyncssh \n",
    "                                \"raw://scanme.nmap.org:22\",   # RAW 22/tcp    open     ssh\n",
    "                                \"raw://scanme.nmap.org:53\",   # RAW 53/tcp    open     domain\n",
    "                                \"raw://scanme.nmap.org:80\",   # RAW 80/tcp    open     http\n",
    "                                \"raw://scanme.nmap.org:2323\", # RAW 2323/tcp  filtered 3d-nfsd\n",
    "                                \"raw://scanme.nmap.org:5555\", # RAW 5555/tcp  filtered freeciv\n",
    "                                \"raw://scanme.nmap.org:9929\", # RAW 9929/tcp  open     nping-echo\n",
    "                                \"raw://scanme.nmap.org:31337\" # RAW 31337/tcp open     Elite\n",
    "                               ],\n",
    "             username=username.value,password=password.value)        \n",
    "\n",
    "button.on_click(on_button_clicked)\n",
    "\n",
    "display(widgets.VBox([username,password]),button,output)"
   ]
  },
  {
   "cell_type": "code",
   "execution_count": 67,
   "id": "aaf9f4e5-01cf-4c0f-bec5-60712092e589",
   "metadata": {},
   "outputs": [
    {
     "name": "stdout",
     "output_type": "stream",
     "text": [
      "The status of \"raw://scanme.nmap.org:53\" is: \"Online!\" 👍, latency: 1.6971295800000001s\n",
      "The status of \"raw://scanme.nmap.org:22\" is: \"Online!\" 👍, latency: 3.58058042s\n",
      "The status of \"raw://scanme.nmap.org:80\" is: \"Online!\" 👍, latency: 3.6086375s\n",
      "The status of \"raw://scanme.nmap.org:31337\" is: \"Online!\" 👍, latency: 3.68452459s\n",
      "The status of \"raw://scanme.nmap.org:9929\" is: \"Online!\" 👍, latency: 3.686105s\n",
      "The status of \"http://scanme.nmap.org\" is: \"Online!\" 👍, latency: 4.32768417s\n",
      "The status of \"ssh://scanme.nmap.org\" is: \"Offline?\" 👎 \n",
      "  Error: \"Permission denied\"\n",
      "The status of \"raw://scanme.nmap.org:2323\" is: \"Offline?\" 👎 \n",
      "  Error: \"Multiple exceptions: [Errno 111] Connect call failed ('45.33.32.156', 2323), [Errno 99] Cannot assign requested address\"\n",
      "The status of \"raw://scanme.nmap.org:5555\" is: \"Offline?\" 👎 \n",
      "  Error: \"Multiple exceptions: [Errno 111] Connect call failed ('45.33.32.156', 5555), [Errno 99] Cannot assign requested address\"\n"
     ]
    }
   ],
   "source": []
  },
  {
   "cell_type": "code",
   "execution_count": 66,
   "id": "7f9bbdd1-7808-4d7a-b195-a59680cc1cca",
   "metadata": {},
   "outputs": [],
   "source": [
    "import time\n",
    "time.sleep(1)\n",
    "check(timeout=3,urls=[],username='',password='')"
   ]
  }
 ],
 "metadata": {
  "kernelspec": {
   "display_name": "Python 3 (ipykernel)",
   "language": "python",
   "name": "python3"
  },
  "language_info": {
   "codemirror_mode": {
    "name": "ipython",
    "version": 3
   },
   "file_extension": ".py",
   "mimetype": "text/x-python",
   "name": "python",
   "nbconvert_exporter": "python",
   "pygments_lexer": "ipython3",
   "version": "3.10.6"
  }
 },
 "nbformat": 4,
 "nbformat_minor": 5
}
