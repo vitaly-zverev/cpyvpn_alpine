{
 "cells": [
  {
   "cell_type": "code",
   "execution_count": 1,
   "id": "0c9658fa-7fe5-449e-8c7b-5304fe3dca7b",
   "metadata": {},
   "outputs": [],
   "source": [
    "#pip install aiohttp asyncssh"
   ]
  },
  {
   "cell_type": "code",
   "execution_count": 3,
   "id": "967881f2-94f5-4124-8ba5-a0209c9db4b6",
   "metadata": {},
   "outputs": [],
   "source": [
    "import asyncio\n",
    "import asyncssh\n",
    "import aiohttp\n",
    "from http.client import HTTPConnection\n",
    "from urllib.parse import urlparse\n",
    "\n",
    "\n",
    "async def site_is_online_async(url, timeout):\n",
    "    \"\"\"Return True if the target URL is online.\n",
    "\n",
    "    Raise an exception otherwise.\n",
    "    \"\"\"\n",
    "    error = Exception(\"unknown error\")\n",
    "    \n",
    "    if urlparse(url).scheme in (\"http\", \"https\"):\n",
    "        async with aiohttp.ClientSession() as session:\n",
    "            try:\n",
    "                await session.head(url, timeout=timeout,ssl=False)\n",
    "                return True\n",
    "            except asyncio.TimeoutError:\n",
    "                error = Exception(\"timed out\")\n",
    "            except (asyncssh.Error) as e:\n",
    "                error = e\n",
    "                \n",
    "    if urlparse(url).scheme in (\"ssh\"):\n",
    "        parser = urlparse(url)\n",
    "        host = parser.netloc or parser.path.split(\"/\")[0]\n",
    "        if  parser.port == None : \n",
    "            port=22 \n",
    "        else: \n",
    "            port=parser.port\n",
    "            host=host.split(\":\")[0]\n",
    "\n",
    "        #print(host,port)\n",
    "        \n",
    "        try:\n",
    "            async with await asyncio.wait_for(asyncssh.connect(host=host,port=port,username=\"test\", password=\"test\", known_hosts=None), timeout=timeout) as conn:\n",
    "                print((await conn.run('tty', term_type='ansi')).stdout, end='')\n",
    "                return True\n",
    "        except asyncio.TimeoutError:\n",
    "                error = Exception(\"timed out\")\n",
    "        except (asyncssh.Error) as e:\n",
    "                error = e\n",
    "            \n",
    "    raise error\n",
    "    \n",
    "def display_check_result(result, url, error=\"\"):\n",
    "    \"\"\"Display the result of a connectivity check.\"\"\"\n",
    "    print(f'The status of \"{url}\" is:', end=\" \")\n",
    "    if result:\n",
    "        print('\"Online!\" 👍')\n",
    "    else:\n",
    "        print(f'\"Offline?\" 👎 \\n  Error: \"{error}\"')\n",
    "\n",
    "\n",
    "async def _asynchronous_check(urls,timeout):\n",
    "    async def _check(url,timeout):\n",
    "        error = \"\"\n",
    "        try:\n",
    "            result = await site_is_online_async(url,timeout)\n",
    "        except Exception as e:\n",
    "            result = False\n",
    "            error = str(e)\n",
    "        display_check_result(result, url, error)\n",
    "\n",
    "    await asyncio.gather(*(_check(url,timeout) for url in urls))\n",
    "\n",
    "def check(urls,timeout=5):\n",
    "    try:\n",
    "        loop = asyncio.get_running_loop()\n",
    "    except RuntimeError:  # 'RuntimeError: There is no current event loop...'\n",
    "        loop = None\n",
    "\n",
    "    if loop and loop.is_running():\n",
    "        print('Async event loop already running. Adding coroutine to the event loop.')\n",
    "        tsk = loop.create_task(_asynchronous_check(urls,timeout))\n",
    "        # ^-- https://docs.python.org/3/library/asyncio-task.html#task-object\n",
    "        # Optionally, a callback function can be executed when the coroutine completes\n",
    "        tsk.add_done_callback(\n",
    "            lambda t: print(f'Task done with result={t.result()}  << return val of main()'))\n",
    "    else:\n",
    "        print('Starting new event loop')\n",
    "        result = asyncio.run(_asynchronous_check(urls,timeout))\t\n"
   ]
  },
  {
   "cell_type": "code",
   "execution_count": 8,
   "id": "7f9bbdd1-7808-4d7a-b195-a59680cc1cca",
   "metadata": {},
   "outputs": [
    {
     "name": "stdout",
     "output_type": "stream",
     "text": [
      "Async event loop already running. Adding coroutine to the event loop.\n",
      "Task done with result=None  << return val of main()\n"
     ]
    }
   ],
   "source": [
    "import time\n",
    "time.sleep(1)\n",
    "check(timeout=3,urls=[])"
   ]
  },
  {
   "cell_type": "code",
   "execution_count": 14,
   "id": "66bbf506-df71-4585-a67b-a310fa777727",
   "metadata": {},
   "outputs": [
    {
     "name": "stdout",
     "output_type": "stream",
     "text": [
      "Async event loop already running. Adding coroutine to the event loop.\n",
      "The status of \"ssh://d01dc-ctrl504p.main.russianpost.ru\" is: \"Offline?\" 👎 \n",
      "  Error: \"[Errno -2] Name or service not known\"\n",
      "The status of \"ssh://d01dc-ctrl303p.main.russianpost.ru\" is: \"Offline?\" 👎 \n",
      "  Error: \"Permission denied\"\n",
      "The status of \"ssh://d01dc-ctrl404p.main.russianpost.ru:22\" is: \"Offline?\" 👎 \n",
      "  Error: \"Permission denied\"\n",
      "The status of \"ssh://d01dc-ctrl404p.main.russianpost.ru:2222\" is: \"Offline?\" 👎 \n",
      "  Error: \"timed out\"\n",
      "Task done with result=None  << return val of main()\n"
     ]
    }
   ],
   "source": [
    "check(timeout=3, urls=[\"ssh://d01dc-ctrl303p.main.russianpost.ru\",\"ssh://d01dc-ctrl504p.main.russianpost.ru\",\"ssh://d01dc-ctrl404p.main.russianpost.ru:22\",\"ssh://d01dc-ctrl404p.main.russianpost.ru:2222\"])"
   ]
  },
  {
   "cell_type": "code",
   "execution_count": 15,
   "id": "4f8a8d9e-8843-4aff-a7c1-8017de19eb36",
   "metadata": {},
   "outputs": [
    {
     "name": "stdout",
     "output_type": "stream",
     "text": [
      "Async event loop already running. Adding coroutine to the event loop.\n",
      "The status of \"https://blablabla.russianpost.ru\" is: \"Offline?\" 👎 \n",
      "  Error: \"Cannot connect to host blablabla.russianpost.ru:443 ssl:False [Name or service not known]\"\n",
      "The status of \"https://gitlab.tools.russianpost.ru\" is: \"Online!\" 👍\n",
      "The status of \"https://jira.russianpost.ru\" is: \"Online!\" 👍\n",
      "Task done with result=None  << return val of main()\n"
     ]
    }
   ],
   "source": [
    "check(timeout=3,urls=[\"https://gitlab.tools.russianpost.ru\",\"https://jira.russianpost.ru\",\"https://blablabla.russianpost.ru\"])"
   ]
  },
  {
   "cell_type": "code",
   "execution_count": 17,
   "id": "2abac13a-f341-4fc9-b045-0552e1a95567",
   "metadata": {},
   "outputs": [
    {
     "name": "stdout",
     "output_type": "stream",
     "text": [
      "Async event loop already running. Adding coroutine to the event loop.\n",
      "The status of \"http://10.233.10.101:9102\" is: \"Online!\" 👍\n",
      "The status of \"http://int.reports.pochta.ru/dc-rest-test/api/test\" is: \"Online!\" 👍\n",
      "The status of \"https://dc-ambari-clsu.russianpost.ru\" is: \"Online!\" 👍\n",
      "The status of \"https://gitlab.tools.russianpost.ru/\" is: \"Online!\" 👍\n",
      "The status of \"http://d01dc-ctrl121.main.russianpost.ru:8088/cluster/scheduler\" is: \"Online!\" 👍\n",
      "The status of \"https://uat-reports.pochta.ru\" is: \"Online!\" 👍\n",
      "The status of \"https://dc-ambari-stru.russianpost.ru\" is: \"Online!\" 👍\n",
      "The status of \"https://dc-hue-uat.russianpost.ru\" is: \"Online!\" 👍\n",
      "The status of \"https://dc-hue-str.russianpost.ru\" is: \"Online!\" 👍\n",
      "The status of \"https://dc-yarn-clsu.russianpost.ru\" is: \"Online!\" 👍\n",
      "The status of \"https://dc-ambari-clsp.russianpost.ru/#/login\" is: \"Online!\" 👍\n",
      "The status of \"http://datacloud-grafana.pochta.ru\" is: \"Offline?\" 👎 \n",
      "  Error: \"Cannot connect to host datacloud-grafana.pochta.ru:80 ssl:False [Name or service not known]\"\n",
      "The status of \"https://dc-yarn-stru.russianpost.ru\" is: \"Online!\" 👍\n",
      "The status of \"https://dc-hue-clsp.russianpost.ru/\" is: \"Online!\" 👍\n",
      "The status of \"https://dc-hue.russianpost.ru\" is: \"Online!\" 👍\n",
      "The status of \"https://dc-hue-dump.russianpost.ru\" is: \"Online!\" 👍\n",
      "The status of \"https://dc-hue-strp.russianpost.ru/\" is: \"Online!\" 👍\n",
      "The status of \"https://dc-ambari-strp.russianpost.ru/#/login\" is: \"Online!\" 👍\n",
      "The status of \"http://kfm-uat.datacloud.russianpost.ru\" is: \"Offline?\" 👎 \n",
      "  Error: \"Cannot connect to host kfm-uat.datacloud.russianpost.ru:80 ssl:False [Name or service not known]\"\n",
      "The status of \"ssh://d01dc-ctrl303p.main.russianpost.ru\" is: \"Offline?\" 👎 \n",
      "  Error: \"Permission denied\"\n",
      "Task done with result=None  << return val of main()\n"
     ]
    }
   ],
   "source": [
    "check(timeout=3,urls=\n",
    "[\n",
    "\"http://d01dc-ctrl121.main.russianpost.ru:8088/cluster/scheduler\",\n",
    "\"ssh://d01dc-ctrl303p.main.russianpost.ru\",\n",
    "\"http://10.233.10.101:9102\",\n",
    "\"https://gitlab.tools.russianpost.ru/\",\n",
    "\"https://dc-ambari-clsu.russianpost.ru\",\n",
    "\"http://datacloud-grafana.pochta.ru\",\n",
    "\"https://dc-hue-str.russianpost.ru\",\n",
    "\"https://dc-ambari-stru.russianpost.ru\",\n",
    "\"https://dc-hue.russianpost.ru\",\n",
    "\"http://int.reports.pochta.ru/dc-rest-test/api/test\",\n",
    "\"https://uat-reports.pochta.ru\",\n",
    "\"https://dc-hue-uat.russianpost.ru\",\n",
    "\"http://kfm-uat.datacloud.russianpost.ru\",\n",
    "\"https://dc-hue-dump.russianpost.ru\",\n",
    "\"https://dc-yarn-stru.russianpost.ru\",\n",
    "\"https://dc-yarn-clsu.russianpost.ru\",\n",
    "\"https://dc-hue-clsp.russianpost.ru/\",\n",
    "\"https://dc-hue-strp.russianpost.ru/\",\n",
    "\"https://dc-ambari-clsp.russianpost.ru/#/login\",\n",
    "\"https://dc-ambari-strp.russianpost.ru/#/login\"\n",
    "]\n",
    ")"
   ]
  },
  {
   "cell_type": "code",
   "execution_count": null,
   "id": "aaf9f4e5-01cf-4c0f-bec5-60712092e589",
   "metadata": {},
   "outputs": [],
   "source": []
  }
 ],
 "metadata": {
  "kernelspec": {
   "display_name": "Python 3 (ipykernel)",
   "language": "python",
   "name": "python3"
  },
  "language_info": {
   "codemirror_mode": {
    "name": "ipython",
    "version": 3
   },
   "file_extension": ".py",
   "mimetype": "text/x-python",
   "name": "python",
   "nbconvert_exporter": "python",
   "pygments_lexer": "ipython3",
   "version": "3.10.6"
  }
 },
 "nbformat": 4,
 "nbformat_minor": 5
}
