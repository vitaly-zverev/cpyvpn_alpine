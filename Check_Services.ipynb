{
 "cells": [
  {
   "cell_type": "code",
   "execution_count": 1,
   "id": "0c9658fa-7fe5-449e-8c7b-5304fe3dca7b",
   "metadata": {},
   "outputs": [],
   "source": [
    "#pip install aiohttp"
   ]
  },
  {
   "cell_type": "code",
   "execution_count": 2,
   "id": "90a7e756-75c4-4782-a1ae-a13e6a479eaa",
   "metadata": {},
   "outputs": [],
   "source": [
    "from http.client import HTTPConnection\n",
    "from urllib.parse import urlparse\n",
    "\n",
    "def site_is_online(url, timeout=2):\n",
    "    \"\"\"Return True if the target URL is online.\n",
    "\n",
    "    Raise an exception otherwise.\n",
    "    \"\"\"\n",
    "    error = Exception(\"unknown error\")\n",
    "    parser = urlparse(url)\n",
    "    host = parser.netloc or parser.path.split(\"/\")[0]\n",
    "    for port in (80, 443):\n",
    "        connection = HTTPConnection(host=host, port=port, timeout=timeout)\n",
    "        try:\n",
    "            connection.request(\"HEAD\", \"/\")\n",
    "            return True\n",
    "        except Exception as e:\n",
    "            error = e\n",
    "        finally:\n",
    "            connection.close()\n",
    "    raise error"
   ]
  },
  {
   "cell_type": "code",
   "execution_count": 3,
   "id": "967881f2-94f5-4124-8ba5-a0209c9db4b6",
   "metadata": {},
   "outputs": [],
   "source": [
    "# checker.py\n",
    "\n",
    "import asyncio\n",
    "from http.client import HTTPConnection\n",
    "from urllib.parse import urlparse\n",
    "\n",
    "import aiohttp\n",
    "# ...\n",
    "\n",
    "async def site_is_online_async(url, timeout=2):\n",
    "    \"\"\"Return True if the target URL is online.\n",
    "\n",
    "    Raise an exception otherwise.\n",
    "    \"\"\"\n",
    "    error = Exception(\"unknown error\")\n",
    "    parser = urlparse(url)\n",
    "    host = parser.netloc or parser.path.split(\"/\")[0]\n",
    "    for scheme in (\"http\", \"https\"):\n",
    "        target_url = scheme + \"://\" + host\n",
    "        async with aiohttp.ClientSession() as session:\n",
    "            try:\n",
    "                await session.head(target_url, timeout=timeout)\n",
    "                return True\n",
    "            except asyncio.exceptions.TimeoutError:\n",
    "                error = Exception(\"timed out\")\n",
    "            except Exception as e:\n",
    "                error = e\n",
    "    raise error"
   ]
  },
  {
   "cell_type": "code",
   "execution_count": 4,
   "id": "ce71d3cf-b932-4f4c-abe2-d0d7f7241ea2",
   "metadata": {},
   "outputs": [],
   "source": [
    "import asyncio\n",
    "import pathlib\n",
    "import sys\n",
    "\n",
    "async def _asynchronous_check(urls):\n",
    "    async def _check(url):\n",
    "        error = \"\"\n",
    "        try:\n",
    "            result = await site_is_online_async(url)\n",
    "        except Exception as e:\n",
    "            result = False\n",
    "            error = str(e)\n",
    "        display_check_result(result, url, error)\n",
    "\n",
    "    await asyncio.gather(*(_check(url) for url in urls))"
   ]
  },
  {
   "cell_type": "code",
   "execution_count": 5,
   "id": "70d588b9-fc0c-4239-ab87-46414479c15a",
   "metadata": {},
   "outputs": [],
   "source": [
    "def display_check_result(result, url, error=\"\"):\n",
    "    \"\"\"Display the result of a connectivity check.\"\"\"\n",
    "    print(f'The status of \"{url}\" is:', end=\" \")\n",
    "    if result:\n",
    "        print('\"Online!\" 👍')\n",
    "    else:\n",
    "        print(f'\"Offline?\" 👎 \\n  Error: \"{error}\"')"
   ]
  },
  {
   "cell_type": "code",
   "execution_count": 6,
   "id": "bdb3bdaf-3d16-4738-a976-974907ddaa70",
   "metadata": {},
   "outputs": [],
   "source": [
    "def check(urls):\n",
    "    try:\n",
    "        loop = asyncio.get_running_loop()\n",
    "    except RuntimeError:  # 'RuntimeError: There is no current event loop...'\n",
    "        loop = None\n",
    "\n",
    "    if loop and loop.is_running():\n",
    "        print('Async event loop already running. Adding coroutine to the event loop.')\n",
    "        tsk = loop.create_task(_asynchronous_check(urls))\n",
    "        # ^-- https://docs.python.org/3/library/asyncio-task.html#task-object\n",
    "        # Optionally, a callback function can be executed when the coroutine completes\n",
    "        tsk.add_done_callback(\n",
    "            lambda t: print(f'Task done with result={t.result()}  << return val of main()'))\n",
    "    else:\n",
    "        print('Starting new event loop')\n",
    "        result = asyncio.run(_asynchronous_check(urls))"
   ]
  },
  {
   "cell_type": "code",
   "execution_count": 10,
   "id": "4f8a8d9e-8843-4aff-a7c1-8017de19eb36",
   "metadata": {},
   "outputs": [
    {
     "name": "stdout",
     "output_type": "stream",
     "text": [
      "Async event loop already running. Adding coroutine to the event loop.\n",
      "The status of \"https://gitlab.tools.russianpost.ru\" is: \"Online!\" 👍\n",
      "The status of \"https://jira.russianpost.ru\" is: \"Online!\" 👍\n",
      "The status of \"https://blablabla.russianpost.ru\" is: \"Offline?\" 👎 \n",
      "  Error: \"Cannot connect to host blablabla.russianpost.ru:443 ssl:default [Name or service not known]\"\n",
      "Task done with result=None  << return val of main()\n"
     ]
    }
   ],
   "source": [
    "check([\"https://gitlab.tools.russianpost.ru\",\"https://jira.russianpost.ru\",\"https://blablabla.russianpost.ru\"])"
   ]
  },
  {
   "cell_type": "code",
   "execution_count": null,
   "id": "2abac13a-f341-4fc9-b045-0552e1a95567",
   "metadata": {},
   "outputs": [],
   "source": []
  }
 ],
 "metadata": {
  "kernelspec": {
   "display_name": "Python 3 (ipykernel)",
   "language": "python",
   "name": "python3"
  },
  "language_info": {
   "codemirror_mode": {
    "name": "ipython",
    "version": 3
   },
   "file_extension": ".py",
   "mimetype": "text/x-python",
   "name": "python",
   "nbconvert_exporter": "python",
   "pygments_lexer": "ipython3",
   "version": "3.10.6"
  }
 },
 "nbformat": 4,
 "nbformat_minor": 5
}
